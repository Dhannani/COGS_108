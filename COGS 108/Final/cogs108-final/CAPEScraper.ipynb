{
 "cells": [
  {
   "cell_type": "code",
   "execution_count": 4,
   "metadata": {},
   "outputs": [],
   "source": [
    "from selenium import webdriver\n",
    "from selenium.webdriver.common.keys import Keys\n",
    "from selenium.webdriver.common.by import By\n",
    "from selenium.webdriver.support.ui import Select\n",
    "import requests\n",
    "import json\n",
    "import re\n",
    "import time\n",
    "import datetime\n",
    "import os\n",
    "from datetime import tzinfo\n",
    "from dateutil.tz import tzoffset\n",
    "import pandas as pd\n",
    "import requests\n",
    "import bs4\n",
    "from bs4 import BeautifulSoup\n",
    "import time\n",
    "import getpass\n",
    "import numpy as np"
   ]
  },
  {
   "cell_type": "markdown",
   "metadata": {},
   "source": [
    "##### Instructions : Download Appropriate Web Driver from the ChromeDrivers folder and add the Executeable to Path"
   ]
  },
  {
   "cell_type": "code",
   "execution_count": null,
   "metadata": {},
   "outputs": [],
   "source": [
    "'''\n",
    "if (platform.system() == \"Windows\"):\n",
    "    driver = webdriver.Chrome(executable_path=os.path.abspath('ChromeDrivers/chromedriver_windows.exe'))\n",
    "elif (platform.system() == \"Darwin\"):\n",
    "    driver = webdriver.Chrome('ChromeDrivers/chromedriver_mac.exe')\n",
    "elif (platform.system() == \"Linux\"):\n",
    "    driver = webdriver.Chrome(executable_path='ChromeDrivers/chromedriver_linux.exe')\n",
    "driver.get(\"http://cape.ucsd.edu\")\n",
    "'''"
   ]
  },
  {
   "cell_type": "markdown",
   "metadata": {},
   "source": [
    "<h3>Let's Login To CAPES</h3>"
   ]
  },
  {
   "cell_type": "code",
   "execution_count": 421,
   "metadata": {},
   "outputs": [
    {
     "name": "stdout",
     "output_type": "stream",
     "text": [
      "········\n"
     ]
    }
   ],
   "source": [
    "#enter credentials\n",
    "username = ''\n",
    "password = getpass.getpass()\n",
    "\n",
    "\n",
    "if(len(username) < 1):\n",
    "    assert len(username) > 0\n",
    "    \n",
    "if(len(password) < 1):  \n",
    "    password = '' #safety\n",
    "    assert len(password) > 0\n",
    "\n",
    "##init chrome driver\n",
    "driver = webdriver.Chrome()\n",
    "driver.get(\"https://cape.ucsd.edu/responses/Results.aspx\")\n",
    "\n",
    "#send data\n",
    "elem = driver.find_element_by_name(\"urn:mace:ucsd.edu:sso:username\")\n",
    "elem.clear()\n",
    "elem.send_keys(username)\n",
    "\n",
    "elem = driver.find_element_by_name(\"urn:mace:ucsd.edu:sso:password\")\n",
    "elem.clear()\n",
    "elem.send_keys(password)\n",
    "    \n",
    "elem = driver.find_element_by_name(\"_eventId_proceed\").click()\n",
    "\n",
    "#reset username & password for safety\n",
    "username = ''\n",
    "password = ''"
   ]
  },
  {
   "cell_type": "code",
   "execution_count": 372,
   "metadata": {},
   "outputs": [],
   "source": [
    "select = Select(driver.find_element_by_name('ctl00$ContentPlaceHolder1$ddlDepartments'))\n",
    "options = select.options\n",
    "del options[0] #remove \"select department tag\"\n",
    "departments = [o.get_attribute('value') for o in options]"
   ]
  },
  {
   "cell_type": "markdown",
   "metadata": {},
   "source": [
    "### Download All Page Sources For Each Department"
   ]
  },
  {
   "cell_type": "code",
   "execution_count": 374,
   "metadata": {},
   "outputs": [],
   "source": [
    "basecape = 'http://cape.ucsd.edu/responses/Results.aspx?Name=&CourseNumber='\n",
    "page_sources = []\n",
    "for depts in departments:\n",
    "    req = basecape + depts\n",
    "    driver.get(req)\n",
    "    time.sleep(1)\n",
    "    page_sources.append(driver.page_source)"
   ]
  },
  {
   "cell_type": "markdown",
   "metadata": {},
   "source": [
    "### Build Headers For DataFrame"
   ]
  },
  {
   "cell_type": "code",
   "execution_count": 390,
   "metadata": {},
   "outputs": [
    {
     "name": "stdout",
     "output_type": "stream",
     "text": [
      "['Instructor', 'Course', 'Term', 'Enroll', 'Evals Made', 'Rcmnd Class', 'Rcmnd Instr', 'Study Hrs/wk', 'Avg Grade Expected', 'Avg Grade Received']\n"
     ]
    }
   ],
   "source": [
    "headers = []\n",
    "soup = BeautifulSoup(source, 'html.parser')\n",
    "table = soup.find('table', attrs={'class':'styled'})\n",
    "for th in table.find('tr').findAll('th'):\n",
    "    headers.append(th.text.strip())"
   ]
  },
  {
   "cell_type": "markdown",
   "metadata": {},
   "source": [
    "### Parse Table Containing Reviews Into DataFrame"
   ]
  },
  {
   "cell_type": "code",
   "execution_count": 376,
   "metadata": {},
   "outputs": [],
   "source": [
    "dataframes = []\n",
    "for source in page_sources:\n",
    "    soup = BeautifulSoup(source, 'html.parser')\n",
    "    table = soup.find('table', attrs={'class':'styled'})\n",
    "    data = []\n",
    "    for i,row in enumerate(table.findAll('tr')):\n",
    "        if i==0:\n",
    "            continue\n",
    "        else:\n",
    "            col_data = []\n",
    "            for td in row.findAll('td'): \n",
    "                col_data.append(td.text.strip())\n",
    "        data.append(col_data)\n",
    "    dataframes.append(pd.DataFrame(data))"
   ]
  },
  {
   "cell_type": "markdown",
   "metadata": {},
   "source": [
    "### Concat DataFrame, Add Headers, Clean, And Save To File"
   ]
  },
  {
   "cell_type": "code",
   "execution_count": 385,
   "metadata": {},
   "outputs": [],
   "source": [
    "df = pd.concat(dataframes)\n",
    "df.columns = headers"
   ]
  },
  {
   "cell_type": "code",
   "execution_count": 393,
   "metadata": {},
   "outputs": [],
   "source": [
    "df.reset_index(drop=True,inplace=True)"
   ]
  },
  {
   "cell_type": "code",
   "execution_count": 3,
   "metadata": {},
   "outputs": [
    {
     "ename": "NameError",
     "evalue": "name 'df' is not defined",
     "output_type": "error",
     "traceback": [
      "\u001b[0;31m---------------------------------------------------------------------------\u001b[0m",
      "\u001b[0;31mNameError\u001b[0m                                 Traceback (most recent call last)",
      "\u001b[0;32m<ipython-input-3-9e20da3ac6aa>\u001b[0m in \u001b[0;36m<module>\u001b[0;34m\u001b[0m\n\u001b[0;32m----> 1\u001b[0;31m \u001b[0mdf\u001b[0m\u001b[0;34m.\u001b[0m\u001b[0mto_csv\u001b[0m\u001b[0;34m(\u001b[0m\u001b[0;34m'capeReviews.csv'\u001b[0m\u001b[0;34m)\u001b[0m\u001b[0;34m\u001b[0m\u001b[0;34m\u001b[0m\u001b[0m\n\u001b[0m",
      "\u001b[0;31mNameError\u001b[0m: name 'df' is not defined"
     ]
    }
   ],
   "source": [
    "df.to_csv('capeReviews.csv')"
   ]
  },
  {
   "cell_type": "markdown",
   "metadata": {},
   "source": [
    "### Second Round Cleanup"
   ]
  },
  {
   "cell_type": "code",
   "execution_count": 6,
   "metadata": {},
   "outputs": [],
   "source": [
    "df = pd.read_csv(open('capeReviews.csv'), header=0)\n",
    "df.drop(columns=['Unnamed: 0'],inplace=True)"
   ]
  },
  {
   "cell_type": "code",
   "execution_count": 7,
   "metadata": {},
   "outputs": [],
   "source": [
    "def cleanPercentage(percent):\n",
    "    percent = percent.strip()\n",
    "    percent = percent.split(' ')[0]\n",
    "    percent = float(percent) / 100.0\n",
    "    return percent\n",
    "    "
   ]
  },
  {
   "cell_type": "code",
   "execution_count": 8,
   "metadata": {},
   "outputs": [],
   "source": [
    "def cleanGrades(grades):\n",
    "    if(pd.notnull(grades)):\n",
    "        grades.strip()\n",
    "        grades = grades.split(' ')[1]\n",
    "        grades = grades.strip('()')\n",
    "        return float(grades)\n",
    "    else:\n",
    "        return grades"
   ]
  },
  {
   "cell_type": "code",
   "execution_count": 9,
   "metadata": {},
   "outputs": [],
   "source": [
    "df[\"Rcmnd Class\"] = df[\"Rcmnd Class\"].apply(cleanPercentage)\n",
    "df[\"Rcmnd Instr\"] = df[\"Rcmnd Instr\"].apply(cleanPercentage)"
   ]
  },
  {
   "cell_type": "code",
   "execution_count": 10,
   "metadata": {},
   "outputs": [],
   "source": [
    "df[\"Avg Grade Expected\"] = df[\"Avg Grade Expected\"].apply(cleanGrades)\n",
    "df[\"Avg Grade Received\"] = df[\"Avg Grade Received\"].apply(cleanGrades)"
   ]
  },
  {
   "cell_type": "code",
   "execution_count": 11,
   "metadata": {},
   "outputs": [
    {
     "data": {
      "text/html": [
       "<div>\n",
       "<style scoped>\n",
       "    .dataframe tbody tr th:only-of-type {\n",
       "        vertical-align: middle;\n",
       "    }\n",
       "\n",
       "    .dataframe tbody tr th {\n",
       "        vertical-align: top;\n",
       "    }\n",
       "\n",
       "    .dataframe thead th {\n",
       "        text-align: right;\n",
       "    }\n",
       "</style>\n",
       "<table border=\"1\" class=\"dataframe\">\n",
       "  <thead>\n",
       "    <tr style=\"text-align: right;\">\n",
       "      <th></th>\n",
       "      <th>Instructor</th>\n",
       "      <th>Course</th>\n",
       "      <th>Term</th>\n",
       "      <th>Enroll</th>\n",
       "      <th>Evals Made</th>\n",
       "      <th>Rcmnd Class</th>\n",
       "      <th>Rcmnd Instr</th>\n",
       "      <th>Study Hrs/wk</th>\n",
       "      <th>Avg Grade Expected</th>\n",
       "      <th>Avg Grade Received</th>\n",
       "    </tr>\n",
       "  </thead>\n",
       "  <tbody>\n",
       "    <tr>\n",
       "      <th>0</th>\n",
       "      <td>Goldstein, Paul S</td>\n",
       "      <td>ANTH 101 - Foundations/Social Complexity (A)</td>\n",
       "      <td>FA18</td>\n",
       "      <td>137</td>\n",
       "      <td>73</td>\n",
       "      <td>0.812</td>\n",
       "      <td>0.791</td>\n",
       "      <td>4.00</td>\n",
       "      <td>3.33</td>\n",
       "      <td>NaN</td>\n",
       "    </tr>\n",
       "    <tr>\n",
       "      <th>1</th>\n",
       "      <td>Semendeferi, Ekaterini</td>\n",
       "      <td>ANTH 196A - Honors Studies in Anthropology (A)</td>\n",
       "      <td>FA18</td>\n",
       "      <td>13</td>\n",
       "      <td>4</td>\n",
       "      <td>1.000</td>\n",
       "      <td>1.000</td>\n",
       "      <td>7.00</td>\n",
       "      <td>4.00</td>\n",
       "      <td>NaN</td>\n",
       "    </tr>\n",
       "    <tr>\n",
       "      <th>2</th>\n",
       "      <td>Rothschild, Amy C</td>\n",
       "      <td>ANTH 21 - Race and Racisms (A)</td>\n",
       "      <td>FA18</td>\n",
       "      <td>212</td>\n",
       "      <td>96</td>\n",
       "      <td>0.947</td>\n",
       "      <td>0.978</td>\n",
       "      <td>3.01</td>\n",
       "      <td>3.58</td>\n",
       "      <td>NaN</td>\n",
       "    </tr>\n",
       "    <tr>\n",
       "      <th>3</th>\n",
       "      <td>Kang, Byung Chu</td>\n",
       "      <td>ANTH 21 - Race and Racisms (B)</td>\n",
       "      <td>FA18</td>\n",
       "      <td>314</td>\n",
       "      <td>214</td>\n",
       "      <td>0.942</td>\n",
       "      <td>0.937</td>\n",
       "      <td>3.36</td>\n",
       "      <td>3.82</td>\n",
       "      <td>NaN</td>\n",
       "    </tr>\n",
       "    <tr>\n",
       "      <th>4</th>\n",
       "      <td>Stewart, Alexander B</td>\n",
       "      <td>ANTH 23 - Debating Multiculturalism (A)</td>\n",
       "      <td>FA18</td>\n",
       "      <td>407</td>\n",
       "      <td>351</td>\n",
       "      <td>0.879</td>\n",
       "      <td>0.956</td>\n",
       "      <td>3.53</td>\n",
       "      <td>3.58</td>\n",
       "      <td>NaN</td>\n",
       "    </tr>\n",
       "  </tbody>\n",
       "</table>\n",
       "</div>"
      ],
      "text/plain": [
       "               Instructor                                          Course  \\\n",
       "0       Goldstein, Paul S    ANTH 101 - Foundations/Social Complexity (A)   \n",
       "1  Semendeferi, Ekaterini  ANTH 196A - Honors Studies in Anthropology (A)   \n",
       "2       Rothschild, Amy C                  ANTH 21 - Race and Racisms (A)   \n",
       "3         Kang, Byung Chu                  ANTH 21 - Race and Racisms (B)   \n",
       "4    Stewart, Alexander B         ANTH 23 - Debating Multiculturalism (A)   \n",
       "\n",
       "   Term  Enroll  Evals Made  Rcmnd Class  Rcmnd Instr  Study Hrs/wk  \\\n",
       "0  FA18     137          73        0.812        0.791          4.00   \n",
       "1  FA18      13           4        1.000        1.000          7.00   \n",
       "2  FA18     212          96        0.947        0.978          3.01   \n",
       "3  FA18     314         214        0.942        0.937          3.36   \n",
       "4  FA18     407         351        0.879        0.956          3.53   \n",
       "\n",
       "   Avg Grade Expected  Avg Grade Received  \n",
       "0                3.33                 NaN  \n",
       "1                4.00                 NaN  \n",
       "2                3.58                 NaN  \n",
       "3                3.82                 NaN  \n",
       "4                3.58                 NaN  "
      ]
     },
     "execution_count": 11,
     "metadata": {},
     "output_type": "execute_result"
    }
   ],
   "source": [
    "df.head()"
   ]
  },
  {
   "cell_type": "markdown",
   "metadata": {},
   "source": [
    "### Adding Useful Data For Comparison to RateMyProfessor"
   ]
  },
  {
   "cell_type": "code",
   "execution_count": 12,
   "metadata": {},
   "outputs": [],
   "source": [
    "def cleanTerms(terms):\n",
    "    semester = terms[:2]\n",
    "    year     = terms[2:4]\n",
    "    \n",
    "    if(semester == \"WI\"):\n",
    "        return (int)(year+\"0\")\n",
    "    \n",
    "    if(semester == \"SP\"):\n",
    "        return (int)(year+\"1\")\n",
    "    \n",
    "    if(semester == \"S1\" or semester == \"S2\" or semester == \"S3\" or semester == \"SU\"):\n",
    "        return (int)(year+\"2\")\n",
    "    \n",
    "    if(semester == \"FA\"):\n",
    "        return (int)(year+\"3\")\n",
    "    "
   ]
  },
  {
   "cell_type": "code",
   "execution_count": 13,
   "metadata": {},
   "outputs": [],
   "source": [
    "def splitDepartment(course):\n",
    "    course = course.strip()\n",
    "    course = course.split(\" \")[0]\n",
    "    return course"
   ]
  },
  {
   "cell_type": "code",
   "execution_count": 14,
   "metadata": {},
   "outputs": [],
   "source": [
    "def splitFirstName(inst):\n",
    "    if(pd.notnull(inst)):\n",
    "        inst = inst.strip()\n",
    "        inst = inst.split(\",\")[1].strip()\n",
    "        inst = inst.split(\" \")[0].strip()\n",
    "        return inst\n",
    "    else:\n",
    "        return inst"
   ]
  },
  {
   "cell_type": "code",
   "execution_count": 15,
   "metadata": {},
   "outputs": [],
   "source": [
    "def splitLastName(inst):\n",
    "    if(pd.notnull(inst)):\n",
    "        inst = inst.strip()\n",
    "        inst = inst.split(\",\")[0].strip()\n",
    "        return inst\n",
    "    else:\n",
    "        return inst"
   ]
  },
  {
   "cell_type": "code",
   "execution_count": 16,
   "metadata": {},
   "outputs": [],
   "source": [
    "df[\"Term\"] = df[\"Term\"].apply(cleanTerms)"
   ]
  },
  {
   "cell_type": "code",
   "execution_count": 17,
   "metadata": {},
   "outputs": [],
   "source": [
    "df[\"tDept\"] = df[\"Course\"].apply(splitDepartment)"
   ]
  },
  {
   "cell_type": "code",
   "execution_count": 18,
   "metadata": {},
   "outputs": [],
   "source": [
    "df[\"tLname\"] = df[\"Instructor\"].apply(splitLastName)"
   ]
  },
  {
   "cell_type": "code",
   "execution_count": 19,
   "metadata": {},
   "outputs": [],
   "source": [
    "df[\"tFname\"] = df[\"Instructor\"].apply(splitFirstName)"
   ]
  },
  {
   "cell_type": "code",
   "execution_count": 20,
   "metadata": {},
   "outputs": [],
   "source": [
    "df[\"Eval / Enroll\"] = df[\"Evals Made\"].values / df[\"Enroll\"].values"
   ]
  },
  {
   "cell_type": "code",
   "execution_count": 21,
   "metadata": {},
   "outputs": [],
   "source": [
    "df = df[['Instructor','tLname','tFname','tDept','Course','Term','Enroll','Evals Made', 'Eval / Enroll',\n",
    "'Rcmnd Class', 'Rcmnd Instr', 'Study Hrs/wk', 'Avg Grade Expected', 'Avg Grade Received']]"
   ]
  },
  {
   "cell_type": "code",
   "execution_count": 22,
   "metadata": {},
   "outputs": [
    {
     "data": {
      "text/html": [
       "<div>\n",
       "<style scoped>\n",
       "    .dataframe tbody tr th:only-of-type {\n",
       "        vertical-align: middle;\n",
       "    }\n",
       "\n",
       "    .dataframe tbody tr th {\n",
       "        vertical-align: top;\n",
       "    }\n",
       "\n",
       "    .dataframe thead th {\n",
       "        text-align: right;\n",
       "    }\n",
       "</style>\n",
       "<table border=\"1\" class=\"dataframe\">\n",
       "  <thead>\n",
       "    <tr style=\"text-align: right;\">\n",
       "      <th></th>\n",
       "      <th>Instructor</th>\n",
       "      <th>tLname</th>\n",
       "      <th>tFname</th>\n",
       "      <th>tDept</th>\n",
       "      <th>Course</th>\n",
       "      <th>Term</th>\n",
       "      <th>Enroll</th>\n",
       "      <th>Evals Made</th>\n",
       "      <th>Eval / Enroll</th>\n",
       "      <th>Rcmnd Class</th>\n",
       "      <th>Rcmnd Instr</th>\n",
       "      <th>Study Hrs/wk</th>\n",
       "      <th>Avg Grade Expected</th>\n",
       "      <th>Avg Grade Received</th>\n",
       "    </tr>\n",
       "  </thead>\n",
       "  <tbody>\n",
       "    <tr>\n",
       "      <th>0</th>\n",
       "      <td>Goldstein, Paul S</td>\n",
       "      <td>Goldstein</td>\n",
       "      <td>Paul</td>\n",
       "      <td>ANTH</td>\n",
       "      <td>ANTH 101 - Foundations/Social Complexity (A)</td>\n",
       "      <td>183</td>\n",
       "      <td>137</td>\n",
       "      <td>73</td>\n",
       "      <td>0.532847</td>\n",
       "      <td>0.812</td>\n",
       "      <td>0.791</td>\n",
       "      <td>4.00</td>\n",
       "      <td>3.33</td>\n",
       "      <td>NaN</td>\n",
       "    </tr>\n",
       "    <tr>\n",
       "      <th>1</th>\n",
       "      <td>Semendeferi, Ekaterini</td>\n",
       "      <td>Semendeferi</td>\n",
       "      <td>Ekaterini</td>\n",
       "      <td>ANTH</td>\n",
       "      <td>ANTH 196A - Honors Studies in Anthropology (A)</td>\n",
       "      <td>183</td>\n",
       "      <td>13</td>\n",
       "      <td>4</td>\n",
       "      <td>0.307692</td>\n",
       "      <td>1.000</td>\n",
       "      <td>1.000</td>\n",
       "      <td>7.00</td>\n",
       "      <td>4.00</td>\n",
       "      <td>NaN</td>\n",
       "    </tr>\n",
       "    <tr>\n",
       "      <th>2</th>\n",
       "      <td>Rothschild, Amy C</td>\n",
       "      <td>Rothschild</td>\n",
       "      <td>Amy</td>\n",
       "      <td>ANTH</td>\n",
       "      <td>ANTH 21 - Race and Racisms (A)</td>\n",
       "      <td>183</td>\n",
       "      <td>212</td>\n",
       "      <td>96</td>\n",
       "      <td>0.452830</td>\n",
       "      <td>0.947</td>\n",
       "      <td>0.978</td>\n",
       "      <td>3.01</td>\n",
       "      <td>3.58</td>\n",
       "      <td>NaN</td>\n",
       "    </tr>\n",
       "    <tr>\n",
       "      <th>3</th>\n",
       "      <td>Kang, Byung Chu</td>\n",
       "      <td>Kang</td>\n",
       "      <td>Byung</td>\n",
       "      <td>ANTH</td>\n",
       "      <td>ANTH 21 - Race and Racisms (B)</td>\n",
       "      <td>183</td>\n",
       "      <td>314</td>\n",
       "      <td>214</td>\n",
       "      <td>0.681529</td>\n",
       "      <td>0.942</td>\n",
       "      <td>0.937</td>\n",
       "      <td>3.36</td>\n",
       "      <td>3.82</td>\n",
       "      <td>NaN</td>\n",
       "    </tr>\n",
       "    <tr>\n",
       "      <th>4</th>\n",
       "      <td>Stewart, Alexander B</td>\n",
       "      <td>Stewart</td>\n",
       "      <td>Alexander</td>\n",
       "      <td>ANTH</td>\n",
       "      <td>ANTH 23 - Debating Multiculturalism (A)</td>\n",
       "      <td>183</td>\n",
       "      <td>407</td>\n",
       "      <td>351</td>\n",
       "      <td>0.862408</td>\n",
       "      <td>0.879</td>\n",
       "      <td>0.956</td>\n",
       "      <td>3.53</td>\n",
       "      <td>3.58</td>\n",
       "      <td>NaN</td>\n",
       "    </tr>\n",
       "  </tbody>\n",
       "</table>\n",
       "</div>"
      ],
      "text/plain": [
       "               Instructor       tLname     tFname tDept  \\\n",
       "0       Goldstein, Paul S    Goldstein       Paul  ANTH   \n",
       "1  Semendeferi, Ekaterini  Semendeferi  Ekaterini  ANTH   \n",
       "2       Rothschild, Amy C   Rothschild        Amy  ANTH   \n",
       "3         Kang, Byung Chu         Kang      Byung  ANTH   \n",
       "4    Stewart, Alexander B      Stewart  Alexander  ANTH   \n",
       "\n",
       "                                           Course  Term  Enroll  Evals Made  \\\n",
       "0    ANTH 101 - Foundations/Social Complexity (A)   183     137          73   \n",
       "1  ANTH 196A - Honors Studies in Anthropology (A)   183      13           4   \n",
       "2                  ANTH 21 - Race and Racisms (A)   183     212          96   \n",
       "3                  ANTH 21 - Race and Racisms (B)   183     314         214   \n",
       "4         ANTH 23 - Debating Multiculturalism (A)   183     407         351   \n",
       "\n",
       "   Eval / Enroll  Rcmnd Class  Rcmnd Instr  Study Hrs/wk  Avg Grade Expected  \\\n",
       "0       0.532847        0.812        0.791          4.00                3.33   \n",
       "1       0.307692        1.000        1.000          7.00                4.00   \n",
       "2       0.452830        0.947        0.978          3.01                3.58   \n",
       "3       0.681529        0.942        0.937          3.36                3.82   \n",
       "4       0.862408        0.879        0.956          3.53                3.58   \n",
       "\n",
       "   Avg Grade Received  \n",
       "0                 NaN  \n",
       "1                 NaN  \n",
       "2                 NaN  \n",
       "3                 NaN  \n",
       "4                 NaN  "
      ]
     },
     "execution_count": 22,
     "metadata": {},
     "output_type": "execute_result"
    }
   ],
   "source": [
    "df.head()"
   ]
  },
  {
   "cell_type": "code",
   "execution_count": 241,
   "metadata": {},
   "outputs": [],
   "source": [
    "df.to_csv('capeReviewsCleaned.csv')"
   ]
  },
  {
   "cell_type": "code",
   "execution_count": 5,
   "metadata": {},
   "outputs": [],
   "source": [
    "df_rmp = pd.read_csv(open('modifiedProfInfo.csv'), header=0)"
   ]
  },
  {
   "cell_type": "markdown",
   "metadata": {},
   "source": [
    "### Finding Duplicate Names As This Could Cause Issues"
   ]
  },
  {
   "cell_type": "code",
   "execution_count": 24,
   "metadata": {},
   "outputs": [],
   "source": [
    "fn = [(splitFirstName(s) + \" \" + splitLastName(s)) for s in df['Instructor'].unique() if pd.notnull(s)]"
   ]
  },
  {
   "cell_type": "code",
   "execution_count": 25,
   "metadata": {},
   "outputs": [
    {
     "name": "stdout",
     "output_type": "stream",
     "text": [
      "There are 38 professors with the same first and last name, however they are in different departments after further analysis\n"
     ]
    }
   ],
   "source": [
    "seen = {}\n",
    "dupes = []\n",
    "\n",
    "for x in fn:\n",
    "    if x not in seen:\n",
    "        seen[x] = 1\n",
    "    else:\n",
    "        if seen[x] == 1:\n",
    "            dupes.append(x)\n",
    "        seen[x] += 1\n",
    "        \n",
    "print(\"There are {} professors with the same first and last name, however they are in different departments after further analysis\".format(len(dupes))) "
   ]
  },
  {
   "cell_type": "markdown",
   "metadata": {},
   "source": [
    "### Below Are the Number of Duplicate Professors In Different Departments\n",
    "#### Through Individual Analysis we Deduced that the Rest of the 32 Professors were Not Actually Duplicates but Inputted Wrong in CAPES"
   ]
  },
  {
   "cell_type": "code",
   "execution_count": 26,
   "metadata": {},
   "outputs": [
    {
     "data": {
      "text/plain": [
       "[('Michael', 'Cole'),\n",
       " ('Dorothy', 'Yang'),\n",
       " ('David', 'Miller'),\n",
       " ('Laura', 'Stevens'),\n",
       " ('Maria', 'Cesena'),\n",
       " ('Traci', 'Voyles'),\n",
       " ('James', 'Williams'),\n",
       " ('Grant', 'Allen'),\n",
       " ('Scott', 'Vandehey'),\n",
       " ('Kefei', 'Zhang'),\n",
       " ('Jeffrey', 'Kaiser'),\n",
       " ('Dong', 'Lee'),\n",
       " ('Daniel', 'Smith'),\n",
       " ('Dong', 'Kim'),\n",
       " ('Andrew', 'Allen'),\n",
       " ('Mark', 'Young')]"
      ]
     },
     "metadata": {},
     "output_type": "display_data"
    }
   ],
   "source": [
    "dps = []\n",
    "for d in dupes:\n",
    "    ff = d.split(' ')[0]\n",
    "    ll = d.split(' ')[1]\n",
    "    if(len(df[(df['tLname'] == ll) & (df['tFname'] == ff)]['tDept'].unique()) > 1):\n",
    "        dps.append((ff,ll))\n",
    "display(dps)"
   ]
  },
  {
   "cell_type": "markdown",
   "metadata": {},
   "source": [
    "### Now we will try to append the TIDS from RMP to CAPES"
   ]
  },
  {
   "cell_type": "code",
   "execution_count": 27,
   "metadata": {},
   "outputs": [],
   "source": [
    "tids_nf = []\n",
    "tids = df_rmp['tid'].unique()\n",
    "for tid in tids:\n",
    "    if(pd.notnull(tid)):\n",
    "        rmp_fname = df_rmp[df_rmp['tid'] == tid]['tFname'].unique()[0]\n",
    "        rmp_lname = df_rmp[df_rmp['tid'] == tid]['tLname'].unique()[0]\n",
    "        rmp_fl = (rmp_fname,rmp_lname)\n",
    "        if(rmp_fl not in dps):\n",
    "            indices = df[(df['tLname'] == rmp_lname) & (df['tFname'] == rmp_fname)].index\n",
    "            if(len(indices) > 0):\n",
    "                for i in indices:\n",
    "                    df.loc[i,\"tid\"] = tid\n",
    "            else:\n",
    "                tids_nf.append(tid)       "
   ]
  },
  {
   "cell_type": "markdown",
   "metadata": {},
   "source": [
    "#### replace tids with int"
   ]
  },
  {
   "cell_type": "code",
   "execution_count": 69,
   "metadata": {},
   "outputs": [],
   "source": [
    "df['tid'] = df['tid'].fillna(-1)\n",
    "df['tid'] = df['tid'].astype(int)\n",
    "df['tid'] = df['tid'].replace('-1', np.nan)"
   ]
  },
  {
   "cell_type": "code",
   "execution_count": 41,
   "metadata": {},
   "outputs": [
    {
     "name": "stdout",
     "output_type": "stream",
     "text": [
      "There are 1820 professors without reviews on RMP, out of the total 3368 professors on cape\n"
     ]
    }
   ],
   "source": [
    "profs_not_on_RMP = len(df[pd.isnull(df['tid'])]['Instructor'].unique())\n",
    "total_profs_on_CAPES = len(df['Instructor'].unique())\n",
    "print(\"There are {} professors without reviews on RMP, out of the total {} professors on cape\".format(profs_not_on_RMP,total_profs_on_CAPES))"
   ]
  },
  {
   "cell_type": "markdown",
   "metadata": {},
   "source": [
    "### Duplicates In RMP"
   ]
  },
  {
   "cell_type": "code",
   "execution_count": 42,
   "metadata": {},
   "outputs": [
    {
     "data": {
      "text/plain": [
       "[('David', 'Miller'),\n",
       " ('Laura', 'Stevens'),\n",
       " ('Traci', 'Voyles'),\n",
       " ('Grant', 'Allen'),\n",
       " ('Scott', 'Vandehey'),\n",
       " ('Andrew', 'Allen'),\n",
       " ('Mark', 'Young')]"
      ]
     },
     "execution_count": 42,
     "metadata": {},
     "output_type": "execute_result"
    }
   ],
   "source": [
    "trim_dps = []\n",
    "for d in dps:\n",
    "    if(len(df_rmp[(df_rmp['tLname'] == d[1]) & (df_rmp['tFname'] == d[0])]) > 0):\n",
    "        trim_dps.append(d)\n",
    "        \n",
    "trim_dps"
   ]
  },
  {
   "cell_type": "code",
   "execution_count": 104,
   "metadata": {},
   "outputs": [],
   "source": [
    "df.to_csv('capeReviewsCleaned2.csv')"
   ]
  },
  {
   "cell_type": "code",
   "execution_count": 103,
   "metadata": {},
   "outputs": [
    {
     "data": {
      "text/html": [
       "<div>\n",
       "<style scoped>\n",
       "    .dataframe tbody tr th:only-of-type {\n",
       "        vertical-align: middle;\n",
       "    }\n",
       "\n",
       "    .dataframe tbody tr th {\n",
       "        vertical-align: top;\n",
       "    }\n",
       "\n",
       "    .dataframe thead th {\n",
       "        text-align: right;\n",
       "    }\n",
       "</style>\n",
       "<table border=\"1\" class=\"dataframe\">\n",
       "  <thead>\n",
       "    <tr style=\"text-align: right;\">\n",
       "      <th></th>\n",
       "      <th>Instructor</th>\n",
       "      <th>tLname</th>\n",
       "      <th>tFname</th>\n",
       "      <th>tDept</th>\n",
       "      <th>Course</th>\n",
       "      <th>Term</th>\n",
       "      <th>Enroll</th>\n",
       "      <th>Evals Made</th>\n",
       "      <th>Eval / Enroll</th>\n",
       "      <th>Rcmnd Class</th>\n",
       "      <th>Rcmnd Instr</th>\n",
       "      <th>Study Hrs/wk</th>\n",
       "      <th>Avg Grade Expected</th>\n",
       "      <th>Avg Grade Received</th>\n",
       "      <th>tid</th>\n",
       "    </tr>\n",
       "  </thead>\n",
       "  <tbody>\n",
       "    <tr>\n",
       "      <th>0</th>\n",
       "      <td>Goldstein, Paul S</td>\n",
       "      <td>Goldstein</td>\n",
       "      <td>Paul</td>\n",
       "      <td>ANTH</td>\n",
       "      <td>ANTH 101 - Foundations/Social Complexity (A)</td>\n",
       "      <td>183</td>\n",
       "      <td>137</td>\n",
       "      <td>73</td>\n",
       "      <td>0.532847</td>\n",
       "      <td>0.812</td>\n",
       "      <td>0.791</td>\n",
       "      <td>4.00</td>\n",
       "      <td>3.33</td>\n",
       "      <td>NaN</td>\n",
       "      <td>222495</td>\n",
       "    </tr>\n",
       "    <tr>\n",
       "      <th>1</th>\n",
       "      <td>Semendeferi, Ekaterini</td>\n",
       "      <td>Semendeferi</td>\n",
       "      <td>Ekaterini</td>\n",
       "      <td>ANTH</td>\n",
       "      <td>ANTH 196A - Honors Studies in Anthropology (A)</td>\n",
       "      <td>183</td>\n",
       "      <td>13</td>\n",
       "      <td>4</td>\n",
       "      <td>0.307692</td>\n",
       "      <td>1.000</td>\n",
       "      <td>1.000</td>\n",
       "      <td>7.00</td>\n",
       "      <td>4.00</td>\n",
       "      <td>NaN</td>\n",
       "      <td>1171683</td>\n",
       "    </tr>\n",
       "    <tr>\n",
       "      <th>2</th>\n",
       "      <td>Rothschild, Amy C</td>\n",
       "      <td>Rothschild</td>\n",
       "      <td>Amy</td>\n",
       "      <td>ANTH</td>\n",
       "      <td>ANTH 21 - Race and Racisms (A)</td>\n",
       "      <td>183</td>\n",
       "      <td>212</td>\n",
       "      <td>96</td>\n",
       "      <td>0.452830</td>\n",
       "      <td>0.947</td>\n",
       "      <td>0.978</td>\n",
       "      <td>3.01</td>\n",
       "      <td>3.58</td>\n",
       "      <td>NaN</td>\n",
       "      <td>-1</td>\n",
       "    </tr>\n",
       "    <tr>\n",
       "      <th>3</th>\n",
       "      <td>Kang, Byung Chu</td>\n",
       "      <td>Kang</td>\n",
       "      <td>Byung</td>\n",
       "      <td>ANTH</td>\n",
       "      <td>ANTH 21 - Race and Racisms (B)</td>\n",
       "      <td>183</td>\n",
       "      <td>314</td>\n",
       "      <td>214</td>\n",
       "      <td>0.681529</td>\n",
       "      <td>0.942</td>\n",
       "      <td>0.937</td>\n",
       "      <td>3.36</td>\n",
       "      <td>3.82</td>\n",
       "      <td>NaN</td>\n",
       "      <td>2308255</td>\n",
       "    </tr>\n",
       "    <tr>\n",
       "      <th>4</th>\n",
       "      <td>Stewart, Alexander B</td>\n",
       "      <td>Stewart</td>\n",
       "      <td>Alexander</td>\n",
       "      <td>ANTH</td>\n",
       "      <td>ANTH 23 - Debating Multiculturalism (A)</td>\n",
       "      <td>183</td>\n",
       "      <td>407</td>\n",
       "      <td>351</td>\n",
       "      <td>0.862408</td>\n",
       "      <td>0.879</td>\n",
       "      <td>0.956</td>\n",
       "      <td>3.53</td>\n",
       "      <td>3.58</td>\n",
       "      <td>NaN</td>\n",
       "      <td>2099749</td>\n",
       "    </tr>\n",
       "  </tbody>\n",
       "</table>\n",
       "</div>"
      ],
      "text/plain": [
       "               Instructor       tLname     tFname tDept  \\\n",
       "0       Goldstein, Paul S    Goldstein       Paul  ANTH   \n",
       "1  Semendeferi, Ekaterini  Semendeferi  Ekaterini  ANTH   \n",
       "2       Rothschild, Amy C   Rothschild        Amy  ANTH   \n",
       "3         Kang, Byung Chu         Kang      Byung  ANTH   \n",
       "4    Stewart, Alexander B      Stewart  Alexander  ANTH   \n",
       "\n",
       "                                           Course  Term  Enroll  Evals Made  \\\n",
       "0    ANTH 101 - Foundations/Social Complexity (A)   183     137          73   \n",
       "1  ANTH 196A - Honors Studies in Anthropology (A)   183      13           4   \n",
       "2                  ANTH 21 - Race and Racisms (A)   183     212          96   \n",
       "3                  ANTH 21 - Race and Racisms (B)   183     314         214   \n",
       "4         ANTH 23 - Debating Multiculturalism (A)   183     407         351   \n",
       "\n",
       "   Eval / Enroll  Rcmnd Class  Rcmnd Instr  Study Hrs/wk  Avg Grade Expected  \\\n",
       "0       0.532847        0.812        0.791          4.00                3.33   \n",
       "1       0.307692        1.000        1.000          7.00                4.00   \n",
       "2       0.452830        0.947        0.978          3.01                3.58   \n",
       "3       0.681529        0.942        0.937          3.36                3.82   \n",
       "4       0.862408        0.879        0.956          3.53                3.58   \n",
       "\n",
       "   Avg Grade Received      tid  \n",
       "0                 NaN   222495  \n",
       "1                 NaN  1171683  \n",
       "2                 NaN       -1  \n",
       "3                 NaN  2308255  \n",
       "4                 NaN  2099749  "
      ]
     },
     "execution_count": 103,
     "metadata": {},
     "output_type": "execute_result"
    }
   ],
   "source": [
    "df.head()"
   ]
  },
  {
   "cell_type": "code",
   "execution_count": null,
   "metadata": {},
   "outputs": [],
   "source": []
  },
  {
   "cell_type": "code",
   "execution_count": null,
   "metadata": {},
   "outputs": [],
   "source": []
  }
 ],
 "metadata": {
  "kernelspec": {
   "display_name": "Python 3",
   "language": "python",
   "name": "python3"
  },
  "language_info": {
   "codemirror_mode": {
    "name": "ipython",
    "version": 3
   },
   "file_extension": ".py",
   "mimetype": "text/x-python",
   "name": "python",
   "nbconvert_exporter": "python",
   "pygments_lexer": "ipython3",
   "version": "3.6.8"
  }
 },
 "nbformat": 4,
 "nbformat_minor": 2
}
