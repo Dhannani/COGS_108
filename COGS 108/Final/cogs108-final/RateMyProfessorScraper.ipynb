{
 "cells": [
  {
   "cell_type": "code",
   "execution_count": 4,
   "metadata": {},
   "outputs": [],
   "source": [
    "import requests\n",
    "import json\n",
    "import math\n",
    "import re\n",
    "import json\n",
    "import pandas as pd\n",
    "from bs4 import BeautifulSoup"
   ]
  },
  {
   "cell_type": "code",
   "execution_count": 8,
   "metadata": {},
   "outputs": [],
   "source": [
    "def getProfessorList(schoolID):\n",
    "    page_id = 1\n",
    "    professorList = []\n",
    "    while True:\n",
    "        page = requests.get(\"http://www.ratemyprofessors.com/filter/professor/?&page=\" \n",
    "                            + str(page_id) + \"&filter=teacherlastname_sort_s+asc&query=*%3A*&queryoption=TEACHER&queryBy=schoolId&sid=\" \n",
    "                            + str(schoolID))\n",
    "        \n",
    "        jsonpage = json.loads(page.content)\n",
    "        professors = jsonpage['professors']\n",
    "        professorList.extend(professors)\n",
    "        \n",
    "        if(int(jsonpage['remaining']) == 0):\n",
    "            break\n",
    "        else:\n",
    "            page_id += 1\n",
    "             \n",
    "    \n",
    "    df = pd.DataFrame(professorList)\n",
    "    df = df.drop(df[df['tNumRatings'] == 0].index) #drop rows without responses\n",
    "    df.to_json('professorsD.json')\n",
    "\n",
    "    '''\n",
    "    #save to json file\n",
    "    with open('professors.json', 'w') as outfile:\n",
    "        json.dump(professorList, outfile)\n",
    "    '''\n",
    "    \n",
    "    return df\n",
    "    \n",
    "def getProfessorInformation(tid):\n",
    "    page_id=1\n",
    "    pages = []\n",
    "    while True:\n",
    "        url = 'http://www.ratemyprofessors.com/paginate/professors/ratings?tid='+ str(tid)+'&filter=&courseCode=&page='+str(page_id)\n",
    "        page = requests.get(url);\n",
    "        r_json = json.loads(page.content)\n",
    "        #page_of_comments = pd.DataFrame.from_dict(r_json['ratings'], orient='columns')\n",
    "        pages.extend(r_json['ratings'])\n",
    "        \n",
    "        if(int(r_json['remaining']) == 0):\n",
    "            break\n",
    "        else:\n",
    "            page_id += 1\n",
    "        \n",
    "    df = pd.DataFrame(pages)\n",
    "    prof = pList.loc[pList['tid'] == tid]\n",
    "    df.insert(0,'tDept',prof['tDept'].values[0])\n",
    "    df.insert(0,'tFname',prof['tFname'].values[0])\n",
    "    df.insert(0,'tLname',prof['tLname'].values[0])\n",
    "    df.insert(0,'tid',tid)\n",
    "    \n",
    "    return df\n",
    "\n",
    "def generateAllProfInformation():\n",
    "    data = []\n",
    "    tids = pList['tid'].values\n",
    "    \n",
    "    for i in tids:\n",
    "        data.append(getProfessorInformation(i))\n",
    "    \n",
    "    data = pd.concat(data)\n",
    "    data.to_csv(\"profData.csv\")\n",
    "    \n",
    "    return data"
   ]
  },
  {
   "cell_type": "code",
   "execution_count": 9,
   "metadata": {},
   "outputs": [],
   "source": [
    "pList = getProfessorList(1079)"
   ]
  },
  {
   "cell_type": "code",
   "execution_count": null,
   "metadata": {},
   "outputs": [],
   "source": [
    "data = generateAllProfInformation()"
   ]
  },
  {
   "cell_type": "code",
   "execution_count": null,
   "metadata": {},
   "outputs": [],
   "source": []
  },
  {
   "cell_type": "code",
   "execution_count": null,
   "metadata": {},
   "outputs": [],
   "source": []
  }
 ],
 "metadata": {
  "kernelspec": {
   "display_name": "Python 3",
   "language": "python",
   "name": "python3"
  },
  "language_info": {
   "codemirror_mode": {
    "name": "ipython",
    "version": 3
   },
   "file_extension": ".py",
   "mimetype": "text/x-python",
   "name": "python",
   "nbconvert_exporter": "python",
   "pygments_lexer": "ipython3",
   "version": "3.6.8"
  }
 },
 "nbformat": 4,
 "nbformat_minor": 2
}
