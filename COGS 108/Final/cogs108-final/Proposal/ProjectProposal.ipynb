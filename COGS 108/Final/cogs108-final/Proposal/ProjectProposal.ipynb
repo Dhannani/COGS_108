{
 "cells": [
  {
   "cell_type": "markdown",
   "metadata": {},
   "source": [
    "# COGS 108 - Project Proposal"
   ]
  },
  {
   "cell_type": "markdown",
   "metadata": {},
   "source": [
    "## Important\n",
    "\n",
    "- Make sure all group members (3-6 people) are listed in the group members section.\n",
    "- ONE, and only one, member of your group should upload this notebook to TritonED. \n",
    "- Each member of the group will receive the same grade on this assignment. \n",
    "- Keep the file name the same: submit the file 'ProjectProposal.ipynb'"
   ]
  },
  {
   "cell_type": "markdown",
   "metadata": {},
   "source": [
    "## Overview"
   ]
  },
  {
   "cell_type": "markdown",
   "metadata": {},
   "source": [
    "Read the project description and detailed instructions for this assignment in the 'ProjectOutline' document."
   ]
  },
  {
   "cell_type": "markdown",
   "metadata": {},
   "source": [
    "## Group Members: Fill in the Student IDs of each group member here\n",
    "\n",
    "Replace the lines below to list each persons full student ID. Add lines as needed for your group size, and make sure each ID is listed on a separate line. \n",
    "\n",
    "- A14218619\n",
    "- A14254947\n",
    "- A11600930"
   ]
  },
  {
   "cell_type": "markdown",
   "metadata": {},
   "source": [
    "### Research Question\n",
    "\n",
    "What is your research question? (1-2 sentences)"
   ]
  },
  {
   "cell_type": "markdown",
   "metadata": {},
   "source": [
    "<em>Our research question is to find out if there are any correlations between RateMyProfessor ratings and CAPE reviews for UCSD courses. Our research will also be comprised of exploring the data of both datasets and displaying our results visually.</em>"
   ]
  },
  {
   "cell_type": "markdown",
   "metadata": {},
   "source": [
    "### Hypothesis\n",
    "\n",
    "What is your main hypothesis and predictions? (2-3 sentences)"
   ]
  },
  {
   "cell_type": "markdown",
   "metadata": {},
   "source": [
    "<em>Our main hypothesis suggests that RateMyProfessor reviews and comments will more likely lie on the extreme ends of the rating spectrum whereas CAPE reviews will be more evenly distributed. The reason we believe this is that UCSD students are incentivized to write CAPE reviews and many students fill them out of reward versus passion. On the other hand, students who write on RateMyProfessor explicitly want to voice their criticisms, so we believe they will have more extreme critiques.</em>"
   ]
  },
  {
   "cell_type": "markdown",
   "metadata": {},
   "source": [
    "### Dataset(s)\n",
    "\n",
    "What data will you use to answer your question? Describe the dataset(s) in terms of number of observations, what kind of features it contains, etc. You must use at least one dataset containing at least approximately 1000 observations (if your data are smaller but you feel they are sufficient, email Prof. Voytek). You are welcome (and in fact recommended) to find multiple datasets! If you do so, describe each one, and briefly explain how you will combine them together. "
   ]
  },
  {
   "cell_type": "markdown",
   "metadata": {},
   "source": [
    "<em>\n",
    "    \n",
    "- Dataset Name: RateMyProfessor \n",
    "- Link to the dataset: https://drive.google.com/drive/folders/1HpW41GnL9wRL0bOqYOUIrTwBmiPg0A2S?usp=sharing\n",
    "- Number of observations: 42173\n",
    "\n",
    "- Description: This dataset contains all of the public information for UCSD on RateMyProfessor.com\n",
    "- Features: [attendance, clarityColor, easyColor, helpColor, helpCount, id, notHelpCount, onlineClass, pName, quality, rClarity, rClass, rComments, rDate, rEasy, rEasyString, rErrorMsg, rHelpful, rInterest, rOverall, rOverallString, rStatus, rTextBookUse, rWouldTakeAgain, sId, takenForCredit, teacher, teacherGrade, teacherRatingTags, unUsefulGrouping, usefulGrouping]\n",
    "\n",
    "-----------------------------------------------------------------------------------------------\n",
    "\n",
    "- Dataset Name: CAPES\n",
    "- Link to the dataset: (currently scraping)\n",
    "- Number of observations: (currently scraping)\n",
    "- Description: This dataset will contain the public information for UCSD CAPES. We will only use the courses that are available from RateMyProfessor to create correlations\n",
    "\n",
    "\n",
    "\n",
    "- Combining: We plan on using the percentage of students who recommend instructors / courses on CAPES and the recommendations from RateMyProfessor.com to come up with correlations and insights between both websites.\n",
    "</em>"
   ]
  },
  {
   "cell_type": "markdown",
   "metadata": {},
   "source": [
    "### Background and Prior Work\n",
    "\n",
    "Why is this question of interest, what background information led you to your hypothesis, and why is this important?\n",
    "\n",
    "Find some relevant prior work, and reference those sources. Even if you think you have a totally novel question, find the most similar prior work that you can and discuss how it relates to your project. \n",
    "\n",
    "References can be research publications, but they need not be. Blogs, github repositories, company websites, etc., are all viable references if they are relevant to your project.\n",
    "\n",
    "(2-3 paragraphs, including at least 2 references)"
   ]
  },
  {
   "cell_type": "markdown",
   "metadata": {},
   "source": [
    "<em>This question is naturally of interest to us because we are students at UCSD who have directly contributed to both datasets at some point in our academic lives. As students, we wish to take courses that are not only interesting but that also have highly rated professors. Everyone at some point in time has been in a classroom with a professor that did not meet their academic needs or taken a course that ends up being completely different from the course title. In aid of students, RateMyProfessor and CAPES are great resources that can be used to gain more insight into the different courses and the professors teaching them. </em>\n",
    "    \n",
    "<em>Even though these sites provide useful information, we would like to dig deeper into what type of data is being produced on these sites. Determining which site is a better representation of the true consensus of students led us to our hypothesis, a comparative analysis into which site is less biased. This type of analysis is important to us because as students, we would like to know which site is more reliable in our search for courses. Moreover, we feel that this information could help our peers make better decisions in the future and potentially be used to improve CAPES.</em>\n",
    "\n",
    "<em>Some related work was done by a professor at Northwestern University which highlighted the gender bias in words used to describe male and female professors. His results show that positive words showed up much more likely for men than women while style descriptive words show up more for women than men. This type of research can be applied to our hypothesis in determining whether or not a certain review is biased and should be considered in our overall analysis. Another useful reference we will be using is a CAPE scraper we found on github, which will help us in the data collection process. </em>\n",
    "\n",
    "\n",
    "References (include links):\n",
    "- 1) https://www.insidehighered.com/news/2015/02/09/new-analysis-rate-my-professors-finds-patterns-words-used-describe-men-and-women\n",
    "- 2) https://github.com/andportnoy/smartercapes.com/blob/master/tools.py"
   ]
  },
  {
   "cell_type": "markdown",
   "metadata": {},
   "source": [
    "### Proposed Methods\n",
    "\n",
    "What methods will you use to analyze your data?\n",
    "\n",
    "- How 'clean' is the data? To the extent that it requires cleaning, how will you do so?\n",
    "- How will you analyze the data? Be as specific as you can. Briefly mention any pre-processing steps that are required for your methods (for example, checking data distributions and performing any transformations that may be required). Include a brief outline of how you will apply your chosen method(s). \n",
    "- What do you plan to report? Briefly mention any key visualizations you plan to create, and/or the kind of results you will be able to report that address your question (this could be, for example, the outcome of some statistical test(s), prediction error on a model, a model fit parameter, etc.).\n",
    "- Include a list of packages you expect to use for you project. If you plan to use packages we have not used in class, add a very brief description about them (a few words is sufficient). "
   ]
  },
  {
   "cell_type": "markdown",
   "metadata": {},
   "source": [
    "*Fill in your proposed methods information here:*\n",
    "\n",
    "*Data Cleaning (2-3 sentences)*\n",
    "\n",
    "<em> In the RateMyProfessor dataset there are many features that are not neccessary and provide no use to our analysis i.e. rErrorMsg, rStatus, sId etc. In addition there are many entries for useful features that are either empty or N/A which need to be cleaned. In the CAPEs dataset we will need to do more analysis, but course reviews with small feedback numbers will probably need to be eliminated as they will not be representative of the overall course. </em>\n",
    "\n",
    "*Data Analysis (1-2 paragraphs)*\n",
    "\n",
    "<em> The main analysis we will perform is sentiment analysis on the RateMyProfessor comments. We will be using high level libraries and prefitted models to perform this analysis, however if time permits we may also train our own models on the data. Gathering the mean sentiment of individual courses and instructors after cleaning will allow us to obtain a percentage recommended which can be directly compared to the course CAPE data. An important part of this analysis will also be to observe if there are any biases within the data, similar to the gender bias article we are using as motivation. Visualizing most used words and correlating those to different courses, professors, and subjects may yield some interesting insights. </em>\n",
    "\n",
    "*What to report (2-3 sentences)*\n",
    "\n",
    "<em> We will report the outcome of our statistical tests on both datasets focusing on the sentiment analysis of the RateMyProfessor dataset. We will present our findings visually with graphs plotting insights such as the most commonly used words for positive and negative sentiment. Lastly, we will compare the ratings from both datasets to show which website is more biased. </em>\n",
    "\n",
    "\n",
    "Packages we plan to use:\n",
    "- Keras\n",
    "- Textblob\n",
    "- (potentially other machine learning libraries)"
   ]
  },
  {
   "cell_type": "markdown",
   "metadata": {},
   "source": [
    "### Ethics and Privacy\n",
    "\n",
    "Briefly acknowledge and address any potential issues of ethics and privacy for the proposed project. In particular:\n",
    "- Do you have permission to use this data, for this purpose?\n",
    "- Are there privacy concerns regarding your datasets that you need to deal with, and/or terms of use that you need to comply with?\n",
    "- Are there potential biases in your dataset(s), in terms of who it composes, and how it was collected, that may be problematic in terms of it allowing for equitable analysis? (For example, does your data exclude particular populations, or is it likely to reflect particular human biases in a way that could be a problem?) \n",
    "- Are there any other issues related to your topic area, data, and/or analyses that are potentially problematic in terms of data privacy and equitable impact?\n",
    "- How will you handle any issues you identify?\n",
    "\n",
    "(1-2 paragraphs)\n",
    "\n",
    "<em> Even though we are scraping both datasets, the data we are using is publicly available and therefore we believe we are not breaking any ethical rules. The only questionable feature that may cause concerns are the names of the professors we are performing analysis on, however this is also in the public domain. Our goal is not to shame any professors or classes but to provide an honest non-biased report on which website provides the most reliable resource for students. We will be making sure to remove any biases such as gender bias and small sample sizes from our data to allow for equitable analysis. </em>"
   ]
  },
  {
   "cell_type": "markdown",
   "metadata": {},
   "source": [
    "### Discussion\n",
    "\n",
    "Discuss your project, looking forward to what your results might mean, how they fit it in with what is already known, and what problems you may encounter. \n",
    "\n",
    "In particular:\n",
    "- If your analyses and hypotheses are correct, what will be the contribution of this project to the topic domain? \n",
    "- Alternatively, what will you do if you methods don't work and/or your hypotheses are wrong? \n",
    "- What are the potential pitfalls and potential confounds of your data and/or methods that may cause problems, and/or influence your interpretations?\n",
    "\n",
    "(2-3 paragraphs)\n",
    "\n",
    "<em> If our analyses and hypotheses are correct, we feel that we will be contributing a useful resource that students can use to better prepare for the classes and professors they will be taking in the future. By reporting on the potential bias and accuracy of both of these sites, students will be able to use our data to choose the more reliable source when doing their research. If our methods don't work and our hypotheses prove to be wrong, then we will at least be able to provide an interesting analysis on the type of the data being produced on both of these websites, specifically the type of comments on RateMyProfessor. We feel that it is important to present potential biases and usefulness of the comments on RateMyProfessor to all students so that they can better judge if the ratings for a specific professor is accurate. We feel that even if our comparison of both website does not yield conclusive, we can at least provide this analysis.\n",
    "\n",
    "The potential problems we foresee is that there is not enough data per class on either RateMyProfessor or CAPES to do a fully non-biased analysis. As an example there might be many reviews for a specific professor but only a few of those reviews for a specific class due to the way RateMyProfessor is structured. This might only allow us to do professor analysis rather than both professor and course analysis, if we cannot obtain enough course infomation. This also does not account for the number of reviews we need to remove as a result of potential bias which will further drop this number.\n"
   ]
  },
  {
   "cell_type": "markdown",
   "metadata": {},
   "source": []
  }
 ],
 "metadata": {
  "kernelspec": {
   "display_name": "Python 3",
   "language": "python",
   "name": "python3"
  },
  "language_info": {
   "codemirror_mode": {
    "name": "ipython",
    "version": 3
   },
   "file_extension": ".py",
   "mimetype": "text/x-python",
   "name": "python",
   "nbconvert_exporter": "python",
   "pygments_lexer": "ipython3",
   "version": "3.6.2"
  }
 },
 "nbformat": 4,
 "nbformat_minor": 2
}
